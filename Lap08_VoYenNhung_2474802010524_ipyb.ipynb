{
  "nbformat": 4,
  "nbformat_minor": 0,
  "metadata": {
    "colab": {
      "provenance": []
    },
    "kernelspec": {
      "name": "python3",
      "display_name": "Python 3"
    },
    "language_info": {
      "name": "python"
    }
  },
  "cells": [
    {
      "cell_type": "code",
      "execution_count": null,
      "metadata": {
        "colab": {
          "base_uri": "https://localhost:8080/"
        },
        "id": "FhRNF9Nuj9Mx",
        "outputId": "6b7a6527-d537-4b3a-b846-a47a632a5be9"
      },
      "outputs": [
        {
          "output_type": "stream",
          "name": "stdout",
          "text": [
            "[ 18 -11   9  -8]\n",
            "[ 9.  -5.5  4.5 -4. ]\n"
          ]
        }
      ],
      "source": [
        "# 1.2\n",
        "#Bài 1\n",
        "#a)\n",
        "import numpy as np\n",
        "u = np.array([2,-1,5,0])\n",
        "v = np.array([4,3,1,-1])\n",
        "w = np.array([-6,2,0,3])\n",
        "x = 2*u-(v+3*w)\n",
        "print (x)\n",
        "#b)\n",
        "x = 0.5*(2*u-v-3*w)\n",
        "print (x)"
      ]
    },
    {
      "cell_type": "code",
      "source": [
        "#Bài 2\n",
        "from numpy import linalg\n",
        "A = np.matrix([[0, -1, 3],[1, 1, 1],[4, 2, 2]])\n",
        "B = np.array([-1, -2, -2])\n",
        "X = np.linalg.solve(A, B)\n",
        "print (X)"
      ],
      "metadata": {
        "colab": {
          "base_uri": "https://localhost:8080/"
        },
        "id": "krjqg0Y8kj5V",
        "outputId": "88b5affb-4812-4ff7-eac6-b8ab611238ab"
      },
      "execution_count": null,
      "outputs": [
        {
          "output_type": "stream",
          "name": "stdout",
          "text": [
            "[ 1. -2. -1.]\n"
          ]
        }
      ]
    },
    {
      "cell_type": "code",
      "source": [
        "#Bài 3\n",
        "A = np.matrix([[1,0],[0,0]])\n",
        "B = np.matrix([[0,0],[0,1]])\n",
        "from numpy import linalg as LA\n",
        "LA.inv(A+B)\n",
        "LA.det(A)\n",
        "LA.det(B)\n",
        "LA.det(A+B)"
      ],
      "metadata": {
        "colab": {
          "base_uri": "https://localhost:8080/"
        },
        "id": "DnVfpox7k3kS",
        "outputId": "fd640fc0-5d03-40ce-ee8f-85576be14989"
      },
      "execution_count": null,
      "outputs": [
        {
          "output_type": "execute_result",
          "data": {
            "text/plain": [
              "np.float64(1.0)"
            ]
          },
          "metadata": {},
          "execution_count": 10
        }
      ]
    },
    {
      "cell_type": "code",
      "source": [
        "#Bài 4\n",
        "import sympy as sp\n",
        "x, y = sp.symbols('x y')\n",
        "A = sp.Matrix([[x, y],[y, x]])\n",
        "x1, y1 = sp.symbols('x1 y1')\n",
        "A1 = sp.Matrix([[x1, y1],[y1, x1]])\n",
        "x2, y2 = sp.symbols('x2 y2')\n",
        "A2 = sp.Matrix([[x2, y2],[y2, x2]])\n",
        "A1.T\n",
        "(A1+A2).T\n",
        "((A1+A2).T).equals(A1+A2)\n",
        "c = sp.symbols('c')\n",
        "print (c*A)\n",
        "((c*A).T).equals(c*A)"
      ],
      "metadata": {
        "colab": {
          "base_uri": "https://localhost:8080/"
        },
        "id": "pc0MDlvQlbj3",
        "outputId": "4b4a7c72-0d71-4067-e125-18898c64afd8"
      },
      "execution_count": null,
      "outputs": [
        {
          "output_type": "stream",
          "name": "stdout",
          "text": [
            "Matrix([[c*x, c*y], [c*y, c*x]])\n"
          ]
        },
        {
          "output_type": "execute_result",
          "data": {
            "text/plain": [
              "True"
            ]
          },
          "metadata": {},
          "execution_count": 5
        }
      ]
    },
    {
      "cell_type": "code",
      "source": [
        "import numpy as np\n",
        "v1 = np.array([1, 2, 3])\n",
        "v2 = np.array([0, 1, 2])\n",
        "v3 = np.array([-1, 0, 1])\n",
        "A = np.column_stack((v1, v2, v3))\n",
        "w = np.array([1, 1, 1])\n",
        "np.linalg.lstsq(A, w,)"
      ],
      "metadata": {
        "colab": {
          "base_uri": "https://localhost:8080/"
        },
        "id": "0MVIJUPxqS6K",
        "outputId": "4123f30e-0905-4c81-f36c-238758d8c959"
      },
      "execution_count": null,
      "outputs": [
        {
          "output_type": "execute_result",
          "data": {
            "text/plain": [
              "(array([ 5.0000000e-01,  1.2490009e-16, -5.0000000e-01]),\n",
              " array([], dtype=float64),\n",
              " np.int32(2),\n",
              " array([4.37228132e+00, 1.37228132e+00, 1.31914152e-16]))"
            ]
          },
          "metadata": {},
          "execution_count": 24
        }
      ]
    },
    {
      "cell_type": "code",
      "source": [
        "#Bài 6\n",
        "import sympy as sp\n",
        "v1 = np.array([1, 2, 3])\n",
        "v2 = np.array([0, 1, 2])\n",
        "v3 = np.array([-2, 0, 1])\n",
        "c1, c2, c3 = sp.symbols('c1 c2 c3')\n",
        "sp.solve([c1-2*c3, 2*c1+c2, 3*c1+2*c2+c3], [c1, c2, c3])"
      ],
      "metadata": {
        "colab": {
          "base_uri": "https://localhost:8080/"
        },
        "id": "KOFmBXY7mb9i",
        "outputId": "316f98bb-fb59-4777-bc7f-c21acb8d883c"
      },
      "execution_count": null,
      "outputs": [
        {
          "output_type": "execute_result",
          "data": {
            "text/plain": [
              "{c1: 0, c2: 0, c3: 0}"
            ]
          },
          "metadata": {},
          "execution_count": 14
        }
      ]
    },
    {
      "cell_type": "code",
      "source": [
        "#Bài 7\n",
        "import sympy as sp\n",
        "c1, c2 = sp.symbols('c1 c2')\n",
        "u1, u2 = sp.symbols('u1 u2')\n",
        "sp.solve([c1+c2-u1,c1-c2-u2])\n",
        "sp.solve([c1+c2-u1,c1-c2-u2])"
      ],
      "metadata": {
        "colab": {
          "base_uri": "https://localhost:8080/"
        },
        "id": "H3SfI1FEnDQN",
        "outputId": "a519e92e-7d16-4580-fecd-246bb8bf0337"
      },
      "execution_count": null,
      "outputs": [
        {
          "output_type": "execute_result",
          "data": {
            "text/plain": [
              "{c1: u1/2 + u2/2, c2: u1/2 - u2/2}"
            ]
          },
          "metadata": {},
          "execution_count": 15
        }
      ]
    },
    {
      "cell_type": "code",
      "source": [
        "# 2.2\n",
        "# a\n",
        "import numpy as np\n",
        "P = np.array([[0,0,3,3,1,1,2,2,1,1],[0,5,5,4,4,3,3,2,2,0]])\n",
        "vecdelta = np.array([4,2])\n",
        "P_caua = (P.T + vecdelta).T\n",
        "print (P_caua)\n",
        "# b\n",
        "import numpy as np\n",
        "P = np.array([[0,0,3,3,1,1,2,2,1,1],[0,5,5,4,4,3,3,2,2,0]])\n",
        "vecdelta = np.array([4,-2])\n",
        "matran_biendoi = np.array([[1.0, 0.0],[0.0, 2.0]])\n",
        "P_caub = (P.T @ matran_biendoi + vecdelta).T\n",
        "print (P_caub)"
      ],
      "metadata": {
        "colab": {
          "base_uri": "https://localhost:8080/"
        },
        "id": "YYa5kdOiosyy",
        "outputId": "f4c38603-86dc-47f3-bbb2-736af4a4b13b"
      },
      "execution_count": null,
      "outputs": [
        {
          "output_type": "stream",
          "name": "stdout",
          "text": [
            "[[4 4 7 7 5 5 6 6 5 5]\n",
            " [2 7 7 6 6 5 5 4 4 2]]\n",
            "[[ 4.  4.  7.  7.  5.  5.  6.  6.  5.  5.]\n",
            " [-2.  8.  8.  6.  6.  4.  4.  2.  2. -2.]]\n"
          ]
        }
      ]
    },
    {
      "cell_type": "code",
      "source": [
        "# 3.3\n",
        "import sympy as sp\n",
        "a, b = sp.symbols('a b')\n",
        "x, y = sp.symbols('x y')\n",
        "sp.solve([a+3*b-x, 2*a+5*b-y],[a,b])"
      ],
      "metadata": {
        "colab": {
          "base_uri": "https://localhost:8080/"
        },
        "id": "fpHAzJSApbKd",
        "outputId": "1bb06f82-ad2e-44fb-dbf2-5267d874d8f6"
      },
      "execution_count": null,
      "outputs": [
        {
          "output_type": "execute_result",
          "data": {
            "text/plain": [
              "{a: -5*x + 3*y, b: 2*x - y}"
            ]
          },
          "metadata": {},
          "execution_count": 20
        }
      ]
    },
    {
      "cell_type": "code",
      "source": [
        "fu1 = np.array([1,1,2])\n",
        "fu2 = np.array([4,2,1])\n",
        "fu = a*fu1 + b*fu2\n",
        "print (fu)\n",
        "fu = a.subs(a, -5*x + 3*y)*fu1 + b.subs(b, 2*x - y)*fu2 # thay giá trị tìm được ở trên vào\n",
        "print (fu)"
      ],
      "metadata": {
        "colab": {
          "base_uri": "https://localhost:8080/"
        },
        "id": "O9K6XkyDprnB",
        "outputId": "2d73aa3c-3488-4c1d-dd43-01e811a618c2"
      },
      "execution_count": null,
      "outputs": [
        {
          "output_type": "stream",
          "name": "stdout",
          "text": [
            "[a + 4*b a + 2*b 2*a + b]\n",
            "[3*x - y -x + y -8*x + 5*y]\n"
          ]
        }
      ]
    },
    {
      "cell_type": "code",
      "source": [
        "# 3.4\n",
        "x1, x2, x3 = sp.symbols('x1 x2 x3')\n",
        "sp.solve([x1+x2-x3, 2*x1+3*x2-x3, 3*x1+5*x2-x3],[x1, x2, x3])"
      ],
      "metadata": {
        "colab": {
          "base_uri": "https://localhost:8080/"
        },
        "id": "ThhOV1EaqBow",
        "outputId": "fca4ede7-5456-4a01-bd7d-8d3957eb91cc"
      },
      "execution_count": null,
      "outputs": [
        {
          "output_type": "execute_result",
          "data": {
            "text/plain": [
              "{x1: 2*x3, x2: -x3}"
            ]
          },
          "metadata": {},
          "execution_count": 22
        }
      ]
    },
    {
      "cell_type": "code",
      "source": [
        "#3.6\n",
        "import numpy as np\n",
        "import math\n",
        "from scipy import linalg as LA\n",
        "B = np.matrix([[1.0/math.sqrt(2), 1.0/math.sqrt(2)],[-1.0/math.sqrt(2),1.0/math.sqrt(2)]]) # cos(pi/4)\n",
        "LA.orth(B)\n",
        "np.array([[-0.70710678, 0.70710678],[ 0.70710678, 0.70710678]])\n",
        "1.0/math.sqrt(2)"
      ],
      "metadata": {
        "colab": {
          "base_uri": "https://localhost:8080/"
        },
        "id": "UoIGYrBoqlI4",
        "outputId": "4e7f4acc-02a7-4b38-f8ab-27547e9bd43a"
      },
      "execution_count": null,
      "outputs": [
        {
          "output_type": "execute_result",
          "data": {
            "text/plain": [
              "0.7071067811865475"
            ]
          },
          "metadata": {},
          "execution_count": 26
        }
      ]
    },
    {
      "cell_type": "code",
      "source": [
        "#Bài tập chương 4\n",
        "# Bài 1\n",
        "import numpy as np\n",
        "def g(v):\n",
        "    x, y, z = v\n",
        "    return np.array([x + y, z + 2, 0])\n",
        "u = np.array([1, 2, 3])\n",
        "v = np.array([4, 5, 6])\n",
        "# Kiểm tra tính chất: g(u + v) == g(u) + g(v)\n",
        "left = g(u + v)\n",
        "right = g(u) + g(v)\n",
        "print(\"g(u + v):\", left)\n",
        "print(\"g(u) + g(v):\", right)\n",
        "# Kiểm tra thêm: g(c * u) == c * g(u)\n",
        "c = 2\n",
        "left2 = g(c * u)\n",
        "right2 = c * g(u)\n",
        "print(left2)\n",
        "print(right2)"
      ],
      "metadata": {
        "colab": {
          "base_uri": "https://localhost:8080/"
        },
        "id": "-93DwRGYtxCO",
        "outputId": "96d66895-87d0-4564-9975-142b16c15956"
      },
      "execution_count": null,
      "outputs": [
        {
          "output_type": "stream",
          "name": "stdout",
          "text": [
            "g(u + v): [12 11  0]\n",
            "g(u) + g(v): [12 13  0]\n",
            "[6 8 0]\n",
            "[ 6 10  0]\n"
          ]
        }
      ]
    },
    {
      "cell_type": "code",
      "source": [
        "#Bài 3\n",
        "from sympy import symbols, Matrix\n",
        "\n",
        "# Khai báo biến\n",
        "v1, v2 = symbols('v1 v2')\n",
        "\n",
        "# Ánh xạ tuyến tính T\n",
        "T = Matrix([v1 - v2, v1 + 2*v2])\n",
        "\n",
        "# Viết lại dưới dạng ma trận\n",
        "B = Matrix([[1, -1], [1, 2]])\n",
        "\n",
        "# Kiểm tra dạng tuyến tính: T = B * [v1; v2]\n",
        "x = Matrix([v1, v2])\n",
        "T == B * x\n",
        "print(\"T là ánh xạ tuyến tính vì có thể viết dưới dạng nhân ma trận.\")"
      ],
      "metadata": {
        "colab": {
          "base_uri": "https://localhost:8080/"
        },
        "id": "49vInGHAvUYV",
        "outputId": "ffdf3e26-7c23-4b26-e01d-6f2b688572bb"
      },
      "execution_count": null,
      "outputs": [
        {
          "output_type": "stream",
          "name": "stdout",
          "text": [
            "T là ánh xạ tuyến tính vì có thể viết dưới dạng nhân ma trận.\n"
          ]
        }
      ]
    },
    {
      "cell_type": "code",
      "source": [],
      "metadata": {
        "id": "7V8CG5jExcnc"
      },
      "execution_count": null,
      "outputs": []
    }
  ]
}