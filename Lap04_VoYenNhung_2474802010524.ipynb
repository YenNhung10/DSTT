{
  "nbformat": 4,
  "nbformat_minor": 0,
  "metadata": {
    "colab": {
      "provenance": []
    },
    "kernelspec": {
      "name": "python3",
      "display_name": "Python 3"
    },
    "language_info": {
      "name": "python"
    }
  },
  "cells": [
    {
      "cell_type": "code",
      "execution_count": null,
      "metadata": {
        "colab": {
          "base_uri": "https://localhost:8080/"
        },
        "id": "_5v3NgIFYKQZ",
        "outputId": "cf74ba4b-f9c2-4ac6-cec3-642786992b06"
      },
      "outputs": [
        {
          "output_type": "execute_result",
          "data": {
            "text/plain": [
              "1"
            ]
          },
          "metadata": {},
          "execution_count": 3
        }
      ],
      "source": [
        "#Bài 1:\n",
        "import numpy as np\n",
        "n = 4\n",
        "X = np.array(range(1,n+1))\n",
        "sigma = np.array([4,3,2,1])\n",
        "def sgn_by_def(sigma):\n",
        "  ket_qua = 1.0\n",
        "  for i in range(len(X)-1):\n",
        "    for j in range(i + 1,len(X)):\n",
        "      ket_qua = ket_qua*((X[i]- X[j])/(sigma[i]-sigma[j]))\n",
        "  return int(ket_qua)\n",
        "sigma = np.array([2,1,3,4])\n",
        "sgn_by_def(sigma)\n",
        "sigma = np.array([1,2,3,4])\n",
        "sgn_by_def(sigma)\n",
        "sigma = np.array([4,3,2,1])\n",
        "sgn_by_def(sigma)"
      ]
    },
    {
      "cell_type": "code",
      "source": [
        "#Bước 1:\n",
        "from itertools import permutations\n",
        "n = 3\n",
        "X = []\n",
        "for i in range (1, n+1):\n",
        "  X.append(i)\n",
        "Sn = list(permutations(X)) #  tạo hoán vị của tập X\n",
        "print (Sn)\n",
        "#Bước 2:\n",
        "det = 0\n",
        "import numpy as np\n",
        "def phatsinh_dinhthuc(n):\n",
        "  X = []\n",
        "  for i in range(1, n+1):\n",
        "    X.append(i)\n",
        "  Sn= list (permutations (X))\n",
        "  dinhthuc=\"\"\n",
        "  for sn in Sn:\n",
        "    sigma = np.array([1])\n",
        "    sigma.resize([n])\n",
        "    product = \"\"\n",
        "    for i in range(1,n+1):\n",
        "      sigma [sn.index(i)] = i\n",
        "      product = product + \"a\"+str(i)+str(sn.index(i)+1)\n",
        "  dau = sgn_by_def(sigma)\n",
        "  if (dau != 1):\n",
        "          product = \"-\" + product\n",
        "  else:\n",
        "           product = \"+\" + product\n",
        "  dinhthuc = dinhthuc + product\n",
        "  return dinhthuc\n",
        "phatsinh_dinhthuc\n",
        "phatsinh_dinhthuc(3)"
      ],
      "metadata": {
        "colab": {
          "base_uri": "https://localhost:8080/",
          "height": 53
        },
        "id": "VZw6UZXBZ2vE",
        "outputId": "190ffcf7-91eb-4704-d0e8-6927e18916e0"
      },
      "execution_count": null,
      "outputs": [
        {
          "output_type": "stream",
          "name": "stdout",
          "text": [
            "[(1, 2, 3), (1, 3, 2), (2, 1, 3), (2, 3, 1), (3, 1, 2), (3, 2, 1)]\n"
          ]
        },
        {
          "output_type": "execute_result",
          "data": {
            "text/plain": [
              "'-a13a22a31'"
            ],
            "application/vnd.google.colaboratory.intrinsic+json": {
              "type": "string"
            }
          },
          "metadata": {},
          "execution_count": 18
        }
      ]
    },
    {
      "cell_type": "code",
      "source": [
        "#đoạn 2\n",
        "def tinhtoan_dinhthuc(A):\n",
        "  X = []\n",
        "  import math\n",
        "  n =int(math.sqrt(A.size))\n",
        "  for i in range(1,n+1):\n",
        "    X.append(i)\n",
        "  Sn=list(permutations (X))\n",
        "  dinhthuc = 0\n",
        "  for sn in Sn:\n",
        "    sigma = np.array([1])\n",
        "    sigma.resize([n])\n",
        "    product = 1\n",
        "    for i in range(1,n+1):\n",
        "      sigma [sn.index(i)] = i\n",
        "      product = product*(A[i-1][sn[i-1]-1])\n",
        "    dau = sgn_by_def(sigma)\n",
        "    if (dau!= 1):\n",
        "      product = product *(-1)\n",
        "    dinhthuc = dinhthuc + product\n",
        "  return dinhthuc\n",
        "\n",
        "matran = np.array([ [3,5,-8], [4, 12, -1], [2,5,3]])\n",
        "tinhtoan_dinhthuc(matran)"
      ],
      "metadata": {
        "colab": {
          "base_uri": "https://localhost:8080/"
        },
        "outputId": "4f2983dc-6bed-40ab-eefe-cc25f1b19c58",
        "id": "883tlCXPi7aD"
      },
      "execution_count": null,
      "outputs": [
        {
          "output_type": "execute_result",
          "data": {
            "text/plain": [
              "np.int64(85)"
            ]
          },
          "metadata": {},
          "execution_count": 26
        }
      ]
    },
    {
      "cell_type": "code",
      "source": [],
      "metadata": {
        "id": "vUtIxUeYm2Pm"
      },
      "execution_count": null,
      "outputs": []
    },
    {
      "cell_type": "code",
      "source": [
        "#bài 3\n",
        "#Hệ hai phương trình tuyến tính bậc 1\n",
        "import numpy as np\n",
        "A = np.array([[4, -2],[3, -5]])\n",
        "A1 = np.array([[10, -2],[11, -5]])\n",
        "A2 = np.array([[4, 10],[3, 11]])\n",
        "from scipy import linalg\n",
        "detA = linalg.det(A)\n",
        "detA1 = linalg.det(A1)\n",
        "detA2 = linalg.det(A2)\n",
        "print (detA, detA1, detA2)\n",
        "if (detA != 0):\n",
        "  x1 = detA1 / detA\n",
        "  x2 = detA2 / detA\n",
        "  print (\"Hai nghiệm của phương trình là: \", x1, x2)"
      ],
      "metadata": {
        "colab": {
          "base_uri": "https://localhost:8080/"
        },
        "id": "B--jICFjjhX1",
        "outputId": "79b0f777-8d9c-43c2-ebf6-77762f83d667"
      },
      "execution_count": null,
      "outputs": [
        {
          "output_type": "stream",
          "name": "stdout",
          "text": [
            "-14.0 -28.0 14.000000000000004\n",
            "Hai nghiệm của phương trình là:  2.0 -1.0000000000000002\n"
          ]
        }
      ]
    },
    {
      "cell_type": "code",
      "source": [
        "#Bài 4:\n",
        "import sympy as sp\n",
        "TG = sp.Matrix([[1, 0, 1],[4, 3, 1], [2, 2, 1]])\n",
        "1/2*TG.det()\n"
      ],
      "metadata": {
        "colab": {
          "base_uri": "https://localhost:8080/",
          "height": 37
        },
        "id": "G8baDVzKnqFX",
        "outputId": "968e73bb-953e-4be8-8d3c-ae69fbad4c09"
      },
      "execution_count": null,
      "outputs": [
        {
          "output_type": "execute_result",
          "data": {
            "text/plain": [
              "1.50000000000000"
            ],
            "text/latex": "$\\displaystyle 1.5$"
          },
          "metadata": {},
          "execution_count": 44
        }
      ]
    },
    {
      "cell_type": "code",
      "source": [
        "#Ứng dụng 2: Mở rộng bài toán tính diện tích thành thể tích hình tứ diện:\n",
        "M = sp.Matrix([[0, 4, 1, 1], [4, 0, 0, 1], [3, 5, 2, 1], [2, 2, 5, 1]])\n",
        "M.det()\n",
        "1/6*M.det()"
      ],
      "metadata": {
        "colab": {
          "base_uri": "https://localhost:8080/",
          "height": 37
        },
        "id": "ydC3KIIfpOBr",
        "outputId": "33c2b254-19ad-417e-86e9-0d551af3d8a9"
      },
      "execution_count": null,
      "outputs": [
        {
          "output_type": "execute_result",
          "data": {
            "text/plain": [
              "-12.0000000000000"
            ],
            "text/latex": "$\\displaystyle -12.0$"
          },
          "metadata": {},
          "execution_count": 49
        }
      ]
    },
    {
      "cell_type": "code",
      "source": [
        "#Ứng dụng 4: Phương trình mặt phẳng\n",
        "from sympy import * # lúc này ta sử dụng trực tiếp thư viện\n",
        "x, y, z = symbols('x y z')\n",
        "MP = Matrix([[x, y, z, 1],[-1, 3, 2, 1],[0, 1, 0, 1],[-2, 0, 1, 1]])\n",
        "MP.det()"
      ],
      "metadata": {
        "colab": {
          "base_uri": "https://localhost:8080/",
          "height": 39
        },
        "id": "DKXzLjfMpSgF",
        "outputId": "ab2f2a1b-b0cf-4e9e-a590-729f6e4d63a6"
      },
      "execution_count": null,
      "outputs": [
        {
          "output_type": "execute_result",
          "data": {
            "text/plain": [
              "-4*x + 3*y - 5*z - 3"
            ],
            "text/latex": "$\\displaystyle - 4 x + 3 y - 5 z - 3$"
          },
          "metadata": {},
          "execution_count": 46
        }
      ]
    }
  ]
}