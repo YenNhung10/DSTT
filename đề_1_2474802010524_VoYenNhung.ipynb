{
  "nbformat": 4,
  "nbformat_minor": 0,
  "metadata": {
    "colab": {
      "provenance": []
    },
    "kernelspec": {
      "name": "python3",
      "display_name": "Python 3"
    },
    "language_info": {
      "name": "python"
    }
  },
  "cells": [
    {
      "cell_type": "code",
      "execution_count": 10,
      "metadata": {
        "colab": {
          "base_uri": "https://localhost:8080/"
        },
        "id": "u5rg6zVelyKk",
        "outputId": "f53f323e-784d-4a92-f5ae-462cb2d83c23"
      },
      "outputs": [
        {
          "output_type": "stream",
          "name": "stdout",
          "text": [
            "[2 3 1 6]\n",
            "[ 3 11  2 14]\n",
            "Tích vô hướng A * B: -0.16666666666666666\n",
            "Góc giữa hai vector A và B:  99.594\n",
            "[[ 5  2  4]\n",
            " [ 2 21 -1]\n",
            " [ 4 -1 38]]\n"
          ]
        }
      ],
      "source": [
        "#Bài 1\n",
        "import numpy as np\n",
        "from numpy.linalg import norm\n",
        "A = np.array([3, -2, 1, 4])\n",
        "B = np.array([-1, 5, 0, 2])\n",
        "C = np.array([[2, -1, 3],\n",
        "              [1, 4, -2],\n",
        "              [0, 2, 5]])\n",
        "#a)\n",
        "tong = A + B\n",
        "tich_so = 2*A + 3*B\n",
        "print(tong)\n",
        "print(tich_so)\n",
        "#b)\n",
        "dot_product = np.dot(A, B)\n",
        "cos_theta = dot_product / (norm(A) * norm(B))\n",
        "goc =np.degrees(np.arccos(cos_theta))\n",
        "print(\"Tích vô hướng A * B:\", cos_theta)\n",
        "print('Góc giữa hai vector A và B: ', round(goc,3))\n",
        "#c)\n",
        "CtC = C.T @ C\n",
        "print(CtC)"
      ]
    },
    {
      "cell_type": "code",
      "source": [],
      "metadata": {
        "id": "v7ZVJJVcoN09"
      },
      "execution_count": null,
      "outputs": []
    },
    {
      "cell_type": "code",
      "execution_count": 5,
      "metadata": {
        "colab": {
          "base_uri": "https://localhost:8080/"
        },
        "id": "TfIGIlkkiugL",
        "outputId": "bf2d804d-85fd-451e-cff5-b111d0dc156f"
      },
      "outputs": [
        {
          "output_type": "stream",
          "name": "stdout",
          "text": [
            "[[ -2  13   0  -5]\n",
            " [  2   0  12  30]\n",
            " [ 17   7  28 -14]\n",
            " [-13   3   5  15]]\n",
            "409.0\n",
            "4\n"
          ]
        }
      ],
      "source": [
        "#Bài 2\n",
        "import numpy as np\n",
        "\n",
        "# Khai báo ma trận M và N\n",
        "M = np.array([[2,-1, 3, 0],\n",
        "              [1, 4, -2, 5],\n",
        "              [0, 2, 6, -3],\n",
        "              [-1, 0, 1, 4]])\n",
        "\n",
        "N = np.array([[ 1,  3,  -2,  0],\n",
        "              [ 4,  -1,  5,  2],\n",
        "              [ 0,  2, 3, -1],\n",
        "              [-3, 1, 0, 4]])\n",
        "\n",
        "# a) Tính tích M × N\n",
        "tich = M @ N\n",
        "print(tich)\n",
        "#b) Tính định thức của ma trận M\n",
        "try:\n",
        "    det_M = np.linalg.det(M)\n",
        "    print(round(det_M, 3))\n",
        "except np.linalg.LinAlgError as e:\n",
        "    print(e)\n",
        "\n",
        "# c) Tính hạng của ma trận N\n",
        "rank_N = np.linalg.matrix_rank(N)\n",
        "print(rank_N)"
      ]
    },
    {
      "cell_type": "code",
      "source": [
        "#Bài 3\n",
        "import numpy as np\n",
        "\n",
        "# Khai báo ma trận P và vector hệ số tự do\n",
        "P = np.array([[3, -1, 0, 2],\n",
        "              [1, 4, -2, 0],\n",
        "              [0, 1, 5, -1],\n",
        "              [2, 0, 1, 3]])\n",
        "\n",
        "b = np.array([6, 8, 3, 7])\n",
        "\n",
        "# a) Tìm ma trận nghịch đảo của P\n",
        "try:\n",
        "    P_nghichdao = np.linalg.inv(P)\n",
        "    print(P_nghichdao)\n",
        "except np.linalg.LinAlgError:\n",
        "    print(\"a) Ma trận P không khả nghịch.\")\n",
        "\n",
        "# b) Giải hệ phương trình P * x = b\n",
        "if 'P_nghichdao' in locals():\n",
        "    x = P_nghichdao @ b\n",
        "    print(x)\n",
        "\n",
        "# c) Kiểm tra lại nghiệm\n",
        "if 'x' in locals():\n",
        "    check = P @ x\n",
        "    print(check)\n",
        "    print(b)\n",
        "    print(np.allclose(check, b))\n"
      ],
      "metadata": {
        "colab": {
          "base_uri": "https://localhost:8080/"
        },
        "id": "W3Onez4spKG_",
        "outputId": "c69acfe9-4260-455f-e340-81fd3a769680"
      },
      "execution_count": 6,
      "outputs": [
        {
          "output_type": "stream",
          "name": "stdout",
          "text": [
            "[[ 0.5         0.1         0.1        -0.3       ]\n",
            " [-0.14285714  0.2         0.05714286  0.11428571]\n",
            " [-0.03571429 -0.05        0.16428571  0.07857143]\n",
            " [-0.32142857 -0.05       -0.12142857  0.50714286]]\n",
            "[2.         1.71428571 0.42857143 0.85714286]\n",
            "[6. 8. 3. 7.]\n",
            "[6 8 3 7]\n",
            "True\n"
          ]
        }
      ]
    },
    {
      "cell_type": "code",
      "source": [
        "#Bài 4\n",
        "# Khai báo ma trận Q\n",
        "Q = np.array([[5, -2, 1],\n",
        "              [0, 3, -2],\n",
        "              [2, 0, 4]])\n",
        "\n",
        "# a) Tìm giá trị riêng\n",
        "eigenvalues, eigenvectors = np.linalg.eig(Q)\n",
        "print(eigenvalues)\n",
        "\n",
        "# b) Vector riêng tương ứng\n",
        "print(eigenvectors)\n",
        "\n",
        "# c) Chuẩn hóa vector riêng (độ dài = 1)\n",
        "normed_vectors = eigenvectors / np.linalg.norm(eigenvectors)\n",
        "print(normed_vectors)"
      ],
      "metadata": {
        "colab": {
          "base_uri": "https://localhost:8080/"
        },
        "id": "hpIyRUhfqA0B",
        "outputId": "ff29dd6b-e9e2-4264-ec99-17f1ace66d80"
      },
      "execution_count": 11,
      "outputs": [
        {
          "output_type": "stream",
          "name": "stdout",
          "text": [
            "[6.61288786+0.j         2.69355607+1.45615495j 2.69355607-1.45615495j]\n",
            "[[ 0.75261685+0.j          0.29792621+0.406802j    0.29792621-0.406802j  ]\n",
            " [-0.31890305+0.j          0.69283737+0.j          0.69283737-0.j        ]\n",
            " [ 0.57608048+0.j          0.1061579 -0.50443928j  0.1061579 +0.50443928j]]\n",
            "[[ 0.43452354+0.j          0.17200777+0.23486724j  0.17200777-0.23486724j]\n",
            " [-0.18411876+0.j          0.40000984+0.j          0.40000984-0.j        ]\n",
            " [ 0.33260022+0.j          0.06129029-0.29123816j  0.06129029+0.29123816j]]\n"
          ]
        }
      ]
    },
    {
      "cell_type": "code",
      "source": [
        "#Bài 5\n",
        "# Ma trận hệ số R và vector hằng số b\n",
        "R = np.array([[4, -1,  2],\n",
        "              [1,  3,  -2],\n",
        "              [0, 2,  5]])\n",
        "b = np.array([12, 5, 9])\n",
        "\n",
        "# a) Giải hệ phương trình Rx = b\n",
        "x = np.linalg.solve(R,b)\n",
        "print(x)\n",
        "\n",
        "# b) Kiểm tra khả nghịch và nhân ngược lại\n",
        "try:\n",
        "    R_inv = np.linalg.inv(R)\n",
        "    print(R_inv)\n",
        "    # Kiểm tra lại nghiệm\n",
        "    check = R @ x\n",
        "    print(check)\n",
        "    print(b)\n",
        "except np.linalg.LinAlgError:\n",
        "    print(\"b) R không khả nghịch.\")\n",
        "\n",
        "# c) Chuẩn Frobenius của R\n",
        "fro_norm = np.linalg.norm(R, ord='fro')\n",
        "print(round(fro_norm, 3))"
      ],
      "metadata": {
        "colab": {
          "base_uri": "https://localhost:8080/"
        },
        "id": "qrZcyo8bzaMV",
        "outputId": "66f3bb15-28c9-4eb4-96a5-0961dbf46845"
      },
      "execution_count": 15,
      "outputs": [
        {
          "output_type": "stream",
          "name": "stdout",
          "text": [
            "[2.78823529 1.52941176 1.18823529]\n",
            "[[ 0.22352941  0.10588235 -0.04705882]\n",
            " [-0.05882353  0.23529412  0.11764706]\n",
            " [ 0.02352941 -0.09411765  0.15294118]]\n",
            "[12.  5.  9.]\n",
            "[12  5  9]\n",
            "8.0\n"
          ]
        }
      ]
    }
  ]
}