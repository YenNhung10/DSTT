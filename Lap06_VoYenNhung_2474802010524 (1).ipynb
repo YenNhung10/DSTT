{
  "nbformat": 4,
  "nbformat_minor": 0,
  "metadata": {
    "colab": {
      "provenance": []
    },
    "kernelspec": {
      "name": "python3",
      "display_name": "Python 3"
    },
    "language_info": {
      "name": "python"
    }
  },
  "cells": [
    {
      "cell_type": "code",
      "execution_count": null,
      "metadata": {
        "colab": {
          "base_uri": "https://localhost:8080/"
        },
        "id": "89SrR3nqdHJS",
        "outputId": "f4f76a77-6b42-4953-de2c-795ff8e7bd5a"
      },
      "outputs": [
        {
          "output_type": "stream",
          "name": "stdout",
          "text": [
            "32\n"
          ]
        }
      ],
      "source": [
        "#Bài 1.2\n",
        "import math\n",
        "import numpy as np\n",
        "a = np.array([1,2,3])\n",
        "b = np.array([4,5,6])\n",
        "tich = np.inner(a,b)\n",
        "print (tich)\n",
        "np.dot(a,b)\n",
        "import numpy as np\n",
        "a = np.array([1,2,-3])\n",
        "np.linalg.norm(a, 2)\n",
        "a = np.array([1,2,-3])\n",
        "np.linalg.norm(a,1)\n",
        "def chuan(v,k):\n",
        "  tong = 0\n",
        "  for i in range(len(v)):\n",
        "    tong = tong + abs(v[i]**k)\n",
        "  ketqua = math.pow(tong,1.0/k)\n",
        "  return ketqua"
      ]
    },
    {
      "cell_type": "code",
      "source": [
        "import math\n",
        "import numpy as np\n",
        "from scipy import linalg\n",
        "a = np.array([1,2,-3])\n",
        "chuan(a, 1)\n",
        "np.linalg.norm(a,1)\n",
        "chuan(a, 2)\n",
        "np.linalg.norm(a,2)\n",
        "chuan(a, 3)\n",
        "np.linalg.norm(a,3)\n",
        "chuan(a, 1000)\n",
        "np.linalg.norm(a,1000)\n",
        "linalg.norm(a)\n",
        "linalg.norm(a, 100)\n",
        "linalg.norm(a, 1000)"
      ],
      "metadata": {
        "colab": {
          "base_uri": "https://localhost:8080/"
        },
        "id": "jck6k3bgfk3G",
        "outputId": "d7485d3b-d4cc-4981-c042-667d650a3658"
      },
      "execution_count": null,
      "outputs": [
        {
          "output_type": "stream",
          "name": "stderr",
          "text": [
            "/usr/local/lib/python3.11/dist-packages/numpy/linalg/_linalg.py:2780: RuntimeWarning: overflow encountered in power\n",
            "  absx **= ord\n"
          ]
        },
        {
          "output_type": "execute_result",
          "data": {
            "text/plain": [
              "np.float64(inf)"
            ]
          },
          "metadata": {},
          "execution_count": 14
        }
      ]
    },
    {
      "cell_type": "code",
      "source": [
        "#Bài 2\n",
        "import numpy as np\n",
        "m = 10\n",
        "v1 = np.array([5,-4,3])\n",
        "v2 = np.array([4,3,-2])\n",
        "v3 = np.array([-4,-3,-1])\n",
        "v4 = np.array([-9,8,6])\n",
        "mi = np.array([2,5,2,1])\n",
        "M = np.array([v1,v2,v3,v4])\n",
        "MT = M.transpose()\n",
        "MT\n",
        "v = (1.0/m)*MT.dot(mi)\n",
        "print (v)"
      ],
      "metadata": {
        "colab": {
          "base_uri": "https://localhost:8080/"
        },
        "id": "FEf9YiIEhQ_z",
        "outputId": "f04f0fb7-66ef-4e81-95f9-26762f6d155e"
      },
      "execution_count": null,
      "outputs": [
        {
          "output_type": "stream",
          "name": "stdout",
          "text": [
            "[1.3 0.9 0. ]\n"
          ]
        }
      ]
    },
    {
      "cell_type": "code",
      "source": [
        "#Bài 3\n",
        "import numpy as np\n",
        "A = np.array([[0.998, 0.136],[0.002, 0.864]])\n",
        "v0 = np.array([[0.95],[0.05]])\n",
        "vecto =np.linalg.matrix_power(A, 100)\n",
        "tinh = np.dot(vecto,v0)\n",
        "print(tinh)"
      ],
      "metadata": {
        "colab": {
          "base_uri": "https://localhost:8080/"
        },
        "id": "H2FmcuK_h-bi",
        "outputId": "7e469343-563c-4219-93b5-6750b551ce82"
      },
      "execution_count": null,
      "outputs": [
        {
          "output_type": "stream",
          "name": "stdout",
          "text": [
            "[[0.98550723]\n",
            " [0.01449277]]\n"
          ]
        }
      ]
    },
    {
      "cell_type": "code",
      "source": [
        "import sympy as np\n",
        "import sympy as sym\n",
        "x, y = sym.symbols('x y')\n",
        "xy = sym.Matrix([x,y])\n",
        "A = sym.Matrix([[1, -68],[1,1]])\n",
        "v = sym.Matrix([0, 1])\n",
        "nghiem = sym.solve([A*xy-v])\n",
        "print(sym.pretty(nghiem))"
      ],
      "metadata": {
        "colab": {
          "base_uri": "https://localhost:8080/"
        },
        "id": "Qw1jexVGjlUW",
        "outputId": "d7ddff8d-4736-459e-e33d-3ae8572b951b"
      },
      "execution_count": null,
      "outputs": [
        {
          "output_type": "stream",
          "name": "stdout",
          "text": [
            "⎧   68         ⎫\n",
            "⎨x: ──, y: 1/69⎬\n",
            "⎩   69         ⎭\n"
          ]
        }
      ]
    },
    {
      "cell_type": "code",
      "source": [
        "#Bài 3.2\n",
        "import numpy as np\n",
        "A = np.array([[1, 6],[5, 2]])\n",
        "u = np.array([[6],[-5]])\n",
        "Au = np.dot(A,u)\n",
        "Au =-4 *u\n",
        "print(Au)"
      ],
      "metadata": {
        "colab": {
          "base_uri": "https://localhost:8080/"
        },
        "id": "lx0NxVBZkSL7",
        "outputId": "a7f6a5f3-e0d9-4d6a-fd16-346b6c506f20"
      },
      "execution_count": null,
      "outputs": [
        {
          "output_type": "stream",
          "name": "stdout",
          "text": [
            "[[-24]\n",
            " [ 20]]\n"
          ]
        }
      ]
    },
    {
      "cell_type": "code",
      "source": [
        "import sympy\n",
        "x, y, Lambda = sympy.symbols('x y Lambda')\n",
        "I = sympy.eye(2)\n",
        "A = sympy.Matrix([[2,3],[3,-6]])\n",
        "phuongtrinh = sympy.Eq(sympy.det(Lambda*I-A), 0)\n",
        "nghiem = sympy.solve(phuongtrinh)\n",
        "print([sympy.N(phantu,4) for phantu in nghiem])\n",
        "print (sympy.pretty(nghiem))"
      ],
      "metadata": {
        "colab": {
          "base_uri": "https://localhost:8080/"
        },
        "id": "6EVPJh8DlLQW",
        "outputId": "48eb8b63-fdc0-44e7-d505-f22e114af47a"
      },
      "execution_count": null,
      "outputs": [
        {
          "output_type": "stream",
          "name": "stdout",
          "text": [
            "[-7.000, 3.000]\n",
            "[-7, 3]\n"
          ]
        }
      ]
    },
    {
      "cell_type": "code",
      "source": [
        "#Bài 3.3\n",
        "import numpy as np\n",
        "A = np.array([[2,3],[3,-6]])\n",
        "D = np.array([[-7,0],[0,3]])\n",
        "P = np.array([[-1.0/3, 3],[1,1]])\n",
        "from numpy import linalg\n",
        "from numpy import linalg as LA\n",
        "P1 = LA.inv(P)\n",
        "print (P1)\n",
        "A.dot(P)\n",
        "P.dot(D)\n",
        "print (D **2)"
      ],
      "metadata": {
        "colab": {
          "base_uri": "https://localhost:8080/"
        },
        "id": "R2rmljV5lsd2",
        "outputId": "35dec1e3-4125-4c48-df8a-5fc2acbfbb28"
      },
      "execution_count": null,
      "outputs": [
        {
          "output_type": "stream",
          "name": "stdout",
          "text": [
            "[[-0.3  0.9]\n",
            " [ 0.3  0.1]]\n",
            "[[49  0]\n",
            " [ 0  9]]\n"
          ]
        }
      ]
    },
    {
      "cell_type": "code",
      "source": [],
      "metadata": {
        "id": "rMaG64IUovsK"
      },
      "execution_count": null,
      "outputs": []
    },
    {
      "cell_type": "code",
      "source": [
        "#Bài tập chương 6\n",
        "#Câu 1\n",
        "import numpy as np\n",
        "a = np.array([1,2,3])\n",
        "mag = np.linalg.norm(a)\n",
        "print(mag)"
      ],
      "metadata": {
        "colab": {
          "base_uri": "https://localhost:8080/"
        },
        "id": "vNuCbOJAmbzC",
        "outputId": "41ccdb96-6f8e-41f8-f449-04e7a399204a"
      },
      "execution_count": null,
      "outputs": [
        {
          "output_type": "stream",
          "name": "stdout",
          "text": [
            "3.7416573867739413\n"
          ]
        }
      ]
    },
    {
      "cell_type": "code",
      "source": [
        "#Câu 2\n",
        "import numpy as np\n",
        "#a)Tính toán khoảng cách giữa 2 vector u và v\n",
        "u = np.array([1, 2])\n",
        "v = np.array([3, 4])\n",
        "khoang_cach = np.linalg.norm(u - v)\n",
        "print(khoang_cach)\n",
        "#b)\n",
        "u = np.linalg.norm(u)\n",
        "v = np.linalg.norm(v)\n",
        "np.dot(u, v)\n",
        "goc = np.dot(u, v) / (u * v)\n",
        "np.arccos(goc)\n",
        "print(goc)\n",
        "#c)Phép chiếu trực giao p với 2 vector u và v cho trước:\n",
        "S = (np.dot(u, v) / np.dot(v, v)) * v\n",
        "print(S)"
      ],
      "metadata": {
        "colab": {
          "base_uri": "https://localhost:8080/"
        },
        "id": "kFKvMAvjpHql",
        "outputId": "70b33bd1-0ea5-459f-e094-65ced0626dc6"
      },
      "execution_count": null,
      "outputs": [
        {
          "output_type": "stream",
          "name": "stdout",
          "text": [
            "2.8284271247461903\n",
            "1.0\n",
            "2.23606797749979\n"
          ]
        }
      ]
    },
    {
      "cell_type": "code",
      "source": [],
      "metadata": {
        "id": "NXvqvupRsF3n"
      },
      "execution_count": null,
      "outputs": []
    }
  ]
}