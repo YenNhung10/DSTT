{
  "nbformat": 4,
  "nbformat_minor": 0,
  "metadata": {
    "colab": {
      "provenance": []
    },
    "kernelspec": {
      "name": "python3",
      "display_name": "Python 3"
    },
    "language_info": {
      "name": "python"
    }
  },
  "cells": [
    {
      "cell_type": "markdown",
      "source": [
        "\n",
        "\n",
        "> Thêm khối trích dẫn\n",
        "\n"
      ],
      "metadata": {
        "id": "iuIpl4KvX_Pt"
      }
    },
    {
      "cell_type": "code",
      "source": [
        "def scale(a, v):\n",
        "  return [a*vi for vi in v]\n",
        "v = [3,5,7]\n",
        "scale(10, v)"
      ],
      "metadata": {
        "id": "0X69SA-7YKAv",
        "colab": {
          "base_uri": "https://localhost:8080/"
        },
        "outputId": "3e2e4b50-bc91-4765-f18d-9574e65b6694"
      },
      "execution_count": null,
      "outputs": [
        {
          "output_type": "execute_result",
          "data": {
            "text/plain": [
              "[30, 50, 70]"
            ]
          },
          "metadata": {},
          "execution_count": 39
        }
      ]
    },
    {
      "cell_type": "code",
      "source": [],
      "metadata": {
        "id": "V5pWzbJha3fD"
      },
      "execution_count": null,
      "outputs": []
    },
    {
      "cell_type": "code",
      "source": [
        "#Hàm lấy tổng hai vector:\n",
        "def sumvector(v, w):\n",
        "  return [vi+wi for (vi, wi) in zip(v, w)]\n",
        "v = [3,5,7]\n",
        "w = [2,4,6]\n",
        "sumvector(v, w)\n"
      ],
      "metadata": {
        "colab": {
          "base_uri": "https://localhost:8080/"
        },
        "id": "gOYTVs6za7lQ",
        "outputId": "cb033525-fe08-491d-aaa0-dbd7102fea1c"
      },
      "execution_count": null,
      "outputs": [
        {
          "output_type": "execute_result",
          "data": {
            "text/plain": [
              "[5, 9, 13]"
            ]
          },
          "metadata": {},
          "execution_count": 33
        }
      ]
    },
    {
      "cell_type": "code",
      "source": [
        "#Hàm nhân 2 vector:\n",
        "def dotvector(v, w):\n",
        "  return sum([vi*wi for (vi, wi) in zip(v, w)])\n",
        "dotvector(v, w)\n"
      ],
      "metadata": {
        "id": "fQuEtLVqbdGl",
        "colab": {
          "base_uri": "https://localhost:8080/"
        },
        "outputId": "658686b1-d46d-4216-830e-9c585be1921a"
      },
      "execution_count": null,
      "outputs": [
        {
          "output_type": "execute_result",
          "data": {
            "text/plain": [
              "68"
            ]
          },
          "metadata": {},
          "execution_count": 40
        }
      ]
    },
    {
      "cell_type": "code",
      "source": [
        "#hàm tính chiều dài một vector:\n",
        "def lenvector(v):\n",
        "  return dotvector(v,v)\n",
        "lenvector(w)"
      ],
      "metadata": {
        "id": "-00SF_fzb2Fn",
        "colab": {
          "base_uri": "https://localhost:8080/"
        },
        "outputId": "932b6d45-7720-47db-d471-0131ac01954f"
      },
      "execution_count": null,
      "outputs": [
        {
          "output_type": "execute_result",
          "data": {
            "text/plain": [
              "56"
            ]
          },
          "metadata": {},
          "execution_count": 41
        }
      ]
    },
    {
      "cell_type": "code",
      "source": [
        "# Bài tập 2:\n",
        "import numpy as np\n",
        "scores = np.array([-1, 1, 2, -3, 5, -4])\n",
        "scores >= 0\n",
        "scores < 0\n",
        "np.select([scores >=0, scores < 0],['so duong', 'so am'], default='unknown')"
      ],
      "metadata": {
        "id": "LZKPvu_pb7Br",
        "colab": {
          "base_uri": "https://localhost:8080/"
        },
        "outputId": "d51fbb03-0f4d-47ad-a4c3-6398228e67c8"
      },
      "execution_count": null,
      "outputs": [
        {
          "output_type": "execute_result",
          "data": {
            "text/plain": [
              "array(['so am', 'so duong', 'so duong', 'so am', 'so duong', 'so am'],\n",
              "      dtype='<U8')"
            ]
          },
          "metadata": {},
          "execution_count": 57
        }
      ]
    },
    {
      "cell_type": "code",
      "source": [
        "scores = np.array([-1, 1, 2, 0, -3, 5, 0, -4])\n",
        "np.select([scores >0, scores ==0, scores < 0],['so duong', 'so 0', 'so am'],default='unknown')"
      ],
      "metadata": {
        "colab": {
          "base_uri": "https://localhost:8080/"
        },
        "id": "JZH-AxNtjg-U",
        "outputId": "0e718998-80d4-4266-fd41-800b001d78ea"
      },
      "execution_count": null,
      "outputs": [
        {
          "output_type": "execute_result",
          "data": {
            "text/plain": [
              "array(['so am', 'so duong', 'so duong', 'so 0', 'so am', 'so duong',\n",
              "       'so 0', 'so am'], dtype='<U8')"
            ]
          },
          "metadata": {},
          "execution_count": 59
        }
      ]
    },
    {
      "cell_type": "code",
      "source": [
        "# Bài tập 3:\n",
        "import numpy as np\n",
        "D = np.matrix([[3,4], [5,6]])\n",
        "print(D)"
      ],
      "metadata": {
        "colab": {
          "base_uri": "https://localhost:8080/"
        },
        "id": "crutVIQQgCOa",
        "outputId": "51efe51d-0ba5-4cea-f24e-3890fa039bc8"
      },
      "execution_count": null,
      "outputs": [
        {
          "output_type": "stream",
          "name": "stdout",
          "text": [
            "[[3 4]\n",
            " [5 6]]\n"
          ]
        }
      ]
    },
    {
      "cell_type": "code",
      "source": [
        "import numpy as np\n",
        "C = np.matrix(np.random.random((5,7)))\n",
        "print(C)"
      ],
      "metadata": {
        "colab": {
          "base_uri": "https://localhost:8080/"
        },
        "id": "xEDvnIngheAx",
        "outputId": "9e85382e-4d57-4590-f3ef-4932a7632c64"
      },
      "execution_count": null,
      "outputs": [
        {
          "output_type": "stream",
          "name": "stdout",
          "text": [
            "[[0.7326084  0.04345751 0.83930504 0.99500342 0.00512538 0.26762605\n",
            "  0.90182084]\n",
            " [0.50978329 0.86729371 0.4593415  0.52519936 0.89832173 0.48323964\n",
            "  0.27823075]\n",
            " [0.31433609 0.0384757  0.20047626 0.46846923 0.98831271 0.26270731\n",
            "  0.49468299]\n",
            " [0.96662956 0.04252641 0.90218335 0.93548772 0.74492819 0.66226941\n",
            "  0.38240266]\n",
            " [0.11207477 0.59113132 0.07250262 0.99546224 0.93381498 0.27673764\n",
            "  0.54779142]]\n"
          ]
        }
      ]
    },
    {
      "cell_type": "code",
      "source": [
        "import numpy as np\n",
        "A = np.matrix(np.random.random((2,2)))\n",
        "print(A)"
      ],
      "metadata": {
        "colab": {
          "base_uri": "https://localhost:8080/"
        },
        "id": "Y4HivOOFh1RE",
        "outputId": "59fd2ab1-b5d6-4448-9479-0193070ca946"
      },
      "execution_count": null,
      "outputs": [
        {
          "output_type": "stream",
          "name": "stdout",
          "text": [
            "[[0.99399206 0.15264227]\n",
            " [0.74942017 0.45064906]]\n"
          ]
        }
      ]
    },
    {
      "cell_type": "code",
      "source": [
        "import numpy as np\n",
        "from scipy import linalg, sparse\n",
        "b = np.array([(1+5j, 2j, 3j),(4, 5,6)])\n",
        "B = np.asmatrix(b)\n",
        "print(B)\n",
        "print(b)\n",
        "A = np.matrix(np.random.random((2,2)))\n",
        "print(A)\n",
        "print(A.T)\n",
        "print(A.I)\n",
        "linalg.inv(A)"
      ],
      "metadata": {
        "colab": {
          "base_uri": "https://localhost:8080/"
        },
        "id": "94ZcgL7_iJU-",
        "outputId": "3e32e3f6-c2ab-4f13-827a-b59366878529"
      },
      "execution_count": null,
      "outputs": [
        {
          "output_type": "stream",
          "name": "stdout",
          "text": [
            "[[1.+5.j 0.+2.j 0.+3.j]\n",
            " [4.+0.j 5.+0.j 6.+0.j]]\n",
            "[[1.+5.j 0.+2.j 0.+3.j]\n",
            " [4.+0.j 5.+0.j 6.+0.j]]\n",
            "[[0.86970374 0.90520833]\n",
            " [0.31763692 0.28868713]]\n",
            "[[0.86970374 0.31763692]\n",
            " [0.90520833 0.28868713]]\n",
            "[[ -7.91893271  24.83063187]\n",
            " [  8.71304998 -23.85671095]]\n"
          ]
        },
        {
          "output_type": "execute_result",
          "data": {
            "text/plain": [
              "array([[ -7.91893271,  24.83063187],\n",
              "       [  8.71304998, -23.85671095]])"
            ]
          },
          "metadata": {},
          "execution_count": 65
        }
      ]
    },
    {
      "cell_type": "markdown",
      "source": [
        "# Mục mới"
      ],
      "metadata": {
        "id": "MITI63sFGR6T"
      }
    },
    {
      "cell_type": "code",
      "source": [
        "M = np.array([[-1,3,2],[0,-2,1],[1,5,-2]])\n",
        "M_lower = np.tril(M)\n",
        "print(M_lower)"
      ],
      "metadata": {
        "colab": {
          "base_uri": "https://localhost:8080/"
        },
        "id": "rTt5cB1YjEcM",
        "outputId": "94172505-db66-4e51-9567-bba83024791f"
      },
      "execution_count": null,
      "outputs": [
        {
          "output_type": "stream",
          "name": "stdout",
          "text": [
            "[[-1  0  0]\n",
            " [ 0 -2  0]\n",
            " [ 1  5 -2]]\n"
          ]
        }
      ]
    },
    {
      "cell_type": "code",
      "source": [
        "import numpy as np\n",
        "M = np.array([[-1,3,2],[0,-2,1],[1,5,-2]])\n",
        "M_upper = np.triu(M)\n",
        "print(M_upper)"
      ],
      "metadata": {
        "colab": {
          "base_uri": "https://localhost:8080/"
        },
        "id": "SBtAX4UqmANx",
        "outputId": "2d17a4d9-aa1e-4500-d3bc-424b497fcbd2"
      },
      "execution_count": null,
      "outputs": [
        {
          "output_type": "stream",
          "name": "stdout",
          "text": [
            "[[-1  3  2]\n",
            " [ 0 -2  1]\n",
            " [ 0  0 -2]]\n"
          ]
        }
      ]
    },
    {
      "cell_type": "code",
      "source": [
        "import numpy as np\n",
        "M = np.array([[-1,3,2],[0,-2,1],[1,5,-2]])\n",
        "v_diag = np.diag(M)\n",
        "print (v_diag)\n",
        "M_diag = np.diag(v_diag)\n",
        "print (M_diag)"
      ],
      "metadata": {
        "colab": {
          "base_uri": "https://localhost:8080/"
        },
        "id": "QRQT0pwqmGpc",
        "outputId": "2a6a6bae-7911-4864-acac-2128cdaa76df"
      },
      "execution_count": null,
      "outputs": [
        {
          "output_type": "stream",
          "name": "stdout",
          "text": [
            "[-1 -2 -2]\n",
            "[[-1  0  0]\n",
            " [ 0 -2  0]\n",
            " [ 0  0 -2]]\n"
          ]
        }
      ]
    },
    {
      "cell_type": "code",
      "source": [
        "#Bài toán xác định hai ma trận bằng nhau:\n",
        "#Ta có: hai vector/ma trận bằng nhau khi các phần tử của chúng bằng nhau. import sympy as sp\n",
        "x = sp.Symbol('x')\n",
        "import sympy as sp\n",
        "x = sp.Symbol('x')\n",
        "y = sp.Symbol('y')\n",
        "z = sp.Symbol('z')\n",
        "sp.solve([x * x + 2 - 6 * y - 1 - 6 * x + z - 1, 2 * x * x - 8, z**2 + 4 - 5 * y - z - 8], [x, y, z])\n",
        "x = [1, 2, 3]\n",
        "y = [1, 2, 3]\n",
        "print(all([x[i] == y[i] for i in range(len(x))]))\n",
        "True\n",
        "y = [1, 2, 4]\n",
        "print(all([x[i] == y[i] for i in range(len(x))]))\n",
        "y= [1,2,4]\n",
        "False"
      ],
      "metadata": {
        "id": "esx159k7niUD",
        "colab": {
          "base_uri": "https://localhost:8080/"
        },
        "outputId": "e1e65a89-d7b8-454c-def5-7f2b07089f50"
      },
      "execution_count": null,
      "outputs": [
        {
          "output_type": "stream",
          "name": "stdout",
          "text": [
            "True\n",
            "False\n"
          ]
        },
        {
          "output_type": "execute_result",
          "data": {
            "text/plain": [
              "False"
            ]
          },
          "metadata": {},
          "execution_count": 4
        }
      ]
    },
    {
      "cell_type": "code",
      "source": [
        "#Bài 3.2\n",
        "import numpy as np\n",
        "A = np.reshape(np.arange(36.0), (6,6))\n",
        "print(A)\n",
        "I6 = np.identity(6)\n",
        "print(I6)\n",
        "A.size\n",
        "np.matrix.diagonal(A)\n",
        "A = A + I6\n",
        "print(A)\n",
        "vecB = np.array([1., 2., 3., 4., 5., 6.])\n",
        "C = A.dot(vecB)\n",
        "print(C)\n",
        "D = np.array([[1., 2., 3., 4., 5., 6.], [1., 0., 1., 0., 1., 0.]])\n",
        "print(D)\n",
        "E = A.dot(D.T)\n",
        "F = np.array([[1., 1.], [2., 0.], [3., 1.], [4., 0], [5., 1], [6., 0.]])\n",
        "G = A.dot(F)\n",
        "print(F)\n",
        "print(G)\n",
        "np.linalg.inv(A)\n",
        "np.linalg.inv(np.linalg.inv(A))"
      ],
      "metadata": {
        "colab": {
          "base_uri": "https://localhost:8080/"
        },
        "id": "Ezf4OUzMABzh",
        "outputId": "869a01af-2b76-478a-a0d2-8633009f01f6"
      },
      "execution_count": null,
      "outputs": [
        {
          "output_type": "stream",
          "name": "stdout",
          "text": [
            "[[ 0.  1.  2.  3.  4.  5.]\n",
            " [ 6.  7.  8.  9. 10. 11.]\n",
            " [12. 13. 14. 15. 16. 17.]\n",
            " [18. 19. 20. 21. 22. 23.]\n",
            " [24. 25. 26. 27. 28. 29.]\n",
            " [30. 31. 32. 33. 34. 35.]]\n",
            "[[1. 0. 0. 0. 0. 0.]\n",
            " [0. 1. 0. 0. 0. 0.]\n",
            " [0. 0. 1. 0. 0. 0.]\n",
            " [0. 0. 0. 1. 0. 0.]\n",
            " [0. 0. 0. 0. 1. 0.]\n",
            " [0. 0. 0. 0. 0. 1.]]\n",
            "[[ 1.  1.  2.  3.  4.  5.]\n",
            " [ 6.  8.  8.  9. 10. 11.]\n",
            " [12. 13. 15. 15. 16. 17.]\n",
            " [18. 19. 20. 22. 22. 23.]\n",
            " [24. 25. 26. 27. 29. 29.]\n",
            " [30. 31. 32. 33. 34. 36.]]\n",
            "[ 71. 198. 325. 452. 579. 706.]\n",
            "[[1. 2. 3. 4. 5. 6.]\n",
            " [1. 0. 1. 0. 1. 0.]]\n",
            "[[1. 1.]\n",
            " [2. 0.]\n",
            " [3. 1.]\n",
            " [4. 0.]\n",
            " [5. 1.]\n",
            " [6. 0.]]\n",
            "[[ 71.   7.]\n",
            " [198.  24.]\n",
            " [325.  43.]\n",
            " [452.  60.]\n",
            " [579.  79.]\n",
            " [706.  96.]]\n"
          ]
        },
        {
          "output_type": "execute_result",
          "data": {
            "text/plain": [
              "array([[ 1.,  1.,  2.,  3.,  4.,  5.],\n",
              "       [ 6.,  8.,  8.,  9., 10., 11.],\n",
              "       [12., 13., 15., 15., 16., 17.],\n",
              "       [18., 19., 20., 22., 22., 23.],\n",
              "       [24., 25., 26., 27., 29., 29.],\n",
              "       [30., 31., 32., 33., 34., 36.]])"
            ]
          },
          "metadata": {},
          "execution_count": 6
        }
      ]
    },
    {
      "cell_type": "code",
      "source": [
        "#Bài 4\n",
        "import numpy as np\n",
        "A = np.array( [ [1,1], [1,0] ] )\n",
        "b = np.array([1, 0])\n",
        "n = 10\n",
        "for i in range(n):\n",
        "  b = A.dot(b)\n",
        "  print(b)"
      ],
      "metadata": {
        "colab": {
          "base_uri": "https://localhost:8080/"
        },
        "id": "t9QpKlCqCMd2",
        "outputId": "5872449d-932e-46cd-872f-f331a971d4e1"
      },
      "execution_count": null,
      "outputs": [
        {
          "output_type": "stream",
          "name": "stdout",
          "text": [
            "[1 1]\n",
            "[2 1]\n",
            "[3 2]\n",
            "[5 3]\n",
            "[8 5]\n",
            "[13  8]\n",
            "[21 13]\n",
            "[34 21]\n",
            "[55 34]\n",
            "[89 55]\n"
          ]
        }
      ]
    },
    {
      "cell_type": "code",
      "source": [
        "#Bài 5\n",
        "import sympy as sp\n",
        "from sympy import Symbol\n",
        "x1 = Symbol('x1')\n",
        "x2 = Symbol('x2')\n",
        "x3 = Symbol('x3')\n",
        "x4 = Symbol('x4')\n",
        "from sympy import solve\n",
        "pt1 = x4+610-450-x1\n",
        "pt2 = x1+400-x2-640\n",
        "pt3 = x2+600-x3\n",
        "pt4 = x3-x4-520\n",
        "nghiem = sp.solve((pt1, pt2, pt3, pt4))\n",
        "print(nghiem)"
      ],
      "metadata": {
        "colab": {
          "base_uri": "https://localhost:8080/"
        },
        "id": "h7B0MJAxDFI5",
        "outputId": "a068c6cb-4662-4701-a5e3-e4be0dd5bcb4"
      },
      "execution_count": null,
      "outputs": [
        {
          "output_type": "stream",
          "name": "stdout",
          "text": [
            "{x1: x4 + 160, x2: x4 - 80, x3: x4 + 520}\n"
          ]
        }
      ]
    },
    {
      "cell_type": "code",
      "source": [
        "#phương pháp nhân ma trận\n",
        "import numpy as np\n",
        "A = np.matrix([[-1,0,0,1],[1,-1,0,0],[0,1,-1,0],[0,0,1,-1]])\n",
        "A_nghichdao = np.linalg.inv(A)\n",
        "print(A_nghichdao)"
      ],
      "metadata": {
        "colab": {
          "base_uri": "https://localhost:8080/",
          "height": 339
        },
        "id": "ew_BR1YGDnwo",
        "outputId": "1a3d2272-e55a-4b9d-e742-c95692e6d3c3"
      },
      "execution_count": null,
      "outputs": [
        {
          "output_type": "error",
          "ename": "LinAlgError",
          "evalue": "Singular matrix",
          "traceback": [
            "\u001b[0;31m---------------------------------------------------------------------------\u001b[0m",
            "\u001b[0;31mLinAlgError\u001b[0m                               Traceback (most recent call last)",
            "\u001b[0;32m<ipython-input-11-d2084dea8d8a>\u001b[0m in \u001b[0;36m<cell line: 0>\u001b[0;34m()\u001b[0m\n\u001b[1;32m      1\u001b[0m \u001b[0;32mimport\u001b[0m \u001b[0mnumpy\u001b[0m \u001b[0;32mas\u001b[0m \u001b[0mnp\u001b[0m\u001b[0;34m\u001b[0m\u001b[0;34m\u001b[0m\u001b[0m\n\u001b[1;32m      2\u001b[0m \u001b[0mA\u001b[0m \u001b[0;34m=\u001b[0m \u001b[0mnp\u001b[0m\u001b[0;34m.\u001b[0m\u001b[0mmatrix\u001b[0m\u001b[0;34m(\u001b[0m\u001b[0;34m[\u001b[0m\u001b[0;34m[\u001b[0m\u001b[0;34m-\u001b[0m\u001b[0;36m1\u001b[0m\u001b[0;34m,\u001b[0m\u001b[0;36m0\u001b[0m\u001b[0;34m,\u001b[0m\u001b[0;36m0\u001b[0m\u001b[0;34m,\u001b[0m\u001b[0;36m1\u001b[0m\u001b[0;34m]\u001b[0m\u001b[0;34m,\u001b[0m\u001b[0;34m[\u001b[0m\u001b[0;36m1\u001b[0m\u001b[0;34m,\u001b[0m\u001b[0;34m-\u001b[0m\u001b[0;36m1\u001b[0m\u001b[0;34m,\u001b[0m\u001b[0;36m0\u001b[0m\u001b[0;34m,\u001b[0m\u001b[0;36m0\u001b[0m\u001b[0;34m]\u001b[0m\u001b[0;34m,\u001b[0m\u001b[0;34m[\u001b[0m\u001b[0;36m0\u001b[0m\u001b[0;34m,\u001b[0m\u001b[0;36m1\u001b[0m\u001b[0;34m,\u001b[0m\u001b[0;34m-\u001b[0m\u001b[0;36m1\u001b[0m\u001b[0;34m,\u001b[0m\u001b[0;36m0\u001b[0m\u001b[0;34m]\u001b[0m\u001b[0;34m,\u001b[0m\u001b[0;34m[\u001b[0m\u001b[0;36m0\u001b[0m\u001b[0;34m,\u001b[0m\u001b[0;36m0\u001b[0m\u001b[0;34m,\u001b[0m\u001b[0;36m1\u001b[0m\u001b[0;34m,\u001b[0m\u001b[0;34m-\u001b[0m\u001b[0;36m1\u001b[0m\u001b[0;34m]\u001b[0m\u001b[0;34m]\u001b[0m\u001b[0;34m)\u001b[0m\u001b[0;34m\u001b[0m\u001b[0;34m\u001b[0m\u001b[0m\n\u001b[0;32m----> 3\u001b[0;31m \u001b[0mA_nghichdao\u001b[0m \u001b[0;34m=\u001b[0m \u001b[0mnp\u001b[0m\u001b[0;34m.\u001b[0m\u001b[0mlinalg\u001b[0m\u001b[0;34m.\u001b[0m\u001b[0minv\u001b[0m\u001b[0;34m(\u001b[0m\u001b[0mA\u001b[0m\u001b[0;34m)\u001b[0m\u001b[0;34m\u001b[0m\u001b[0;34m\u001b[0m\u001b[0m\n\u001b[0m\u001b[1;32m      4\u001b[0m \u001b[0mprint\u001b[0m\u001b[0;34m(\u001b[0m\u001b[0mA_nghichdao\u001b[0m\u001b[0;34m)\u001b[0m\u001b[0;34m\u001b[0m\u001b[0;34m\u001b[0m\u001b[0m\n",
            "\u001b[0;32m/usr/local/lib/python3.11/dist-packages/numpy/linalg/_linalg.py\u001b[0m in \u001b[0;36minv\u001b[0;34m(a)\u001b[0m\n\u001b[1;32m    606\u001b[0m     with errstate(call=_raise_linalgerror_singular, invalid='call',\n\u001b[1;32m    607\u001b[0m                   over='ignore', divide='ignore', under='ignore'):\n\u001b[0;32m--> 608\u001b[0;31m         \u001b[0mainv\u001b[0m \u001b[0;34m=\u001b[0m \u001b[0m_umath_linalg\u001b[0m\u001b[0;34m.\u001b[0m\u001b[0minv\u001b[0m\u001b[0;34m(\u001b[0m\u001b[0ma\u001b[0m\u001b[0;34m,\u001b[0m \u001b[0msignature\u001b[0m\u001b[0;34m=\u001b[0m\u001b[0msignature\u001b[0m\u001b[0;34m)\u001b[0m\u001b[0;34m\u001b[0m\u001b[0;34m\u001b[0m\u001b[0m\n\u001b[0m\u001b[1;32m    609\u001b[0m     \u001b[0;32mreturn\u001b[0m \u001b[0mwrap\u001b[0m\u001b[0;34m(\u001b[0m\u001b[0mainv\u001b[0m\u001b[0;34m.\u001b[0m\u001b[0mastype\u001b[0m\u001b[0;34m(\u001b[0m\u001b[0mresult_t\u001b[0m\u001b[0;34m,\u001b[0m \u001b[0mcopy\u001b[0m\u001b[0;34m=\u001b[0m\u001b[0;32mFalse\u001b[0m\u001b[0;34m)\u001b[0m\u001b[0;34m)\u001b[0m\u001b[0;34m\u001b[0m\u001b[0;34m\u001b[0m\u001b[0m\n\u001b[1;32m    610\u001b[0m \u001b[0;34m\u001b[0m\u001b[0m\n",
            "\u001b[0;32m/usr/local/lib/python3.11/dist-packages/numpy/linalg/_linalg.py\u001b[0m in \u001b[0;36m_raise_linalgerror_singular\u001b[0;34m(err, flag)\u001b[0m\n\u001b[1;32m    102\u001b[0m \u001b[0;34m\u001b[0m\u001b[0m\n\u001b[1;32m    103\u001b[0m \u001b[0;32mdef\u001b[0m \u001b[0m_raise_linalgerror_singular\u001b[0m\u001b[0;34m(\u001b[0m\u001b[0merr\u001b[0m\u001b[0;34m,\u001b[0m \u001b[0mflag\u001b[0m\u001b[0;34m)\u001b[0m\u001b[0;34m:\u001b[0m\u001b[0;34m\u001b[0m\u001b[0;34m\u001b[0m\u001b[0m\n\u001b[0;32m--> 104\u001b[0;31m     \u001b[0;32mraise\u001b[0m \u001b[0mLinAlgError\u001b[0m\u001b[0;34m(\u001b[0m\u001b[0;34m\"Singular matrix\"\u001b[0m\u001b[0;34m)\u001b[0m\u001b[0;34m\u001b[0m\u001b[0;34m\u001b[0m\u001b[0m\n\u001b[0m\u001b[1;32m    105\u001b[0m \u001b[0;34m\u001b[0m\u001b[0m\n\u001b[1;32m    106\u001b[0m \u001b[0;32mdef\u001b[0m \u001b[0m_raise_linalgerror_nonposdef\u001b[0m\u001b[0;34m(\u001b[0m\u001b[0merr\u001b[0m\u001b[0;34m,\u001b[0m \u001b[0mflag\u001b[0m\u001b[0;34m)\u001b[0m\u001b[0;34m:\u001b[0m\u001b[0;34m\u001b[0m\u001b[0;34m\u001b[0m\u001b[0m\n",
            "\u001b[0;31mLinAlgError\u001b[0m: Singular matrix"
          ]
        }
      ]
    }
  ]
}