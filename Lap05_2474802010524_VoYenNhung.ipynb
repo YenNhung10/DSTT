{
  "nbformat": 4,
  "nbformat_minor": 0,
  "metadata": {
    "colab": {
      "provenance": []
    },
    "kernelspec": {
      "name": "python3",
      "display_name": "Python 3"
    },
    "language_info": {
      "name": "python"
    }
  },
  "cells": [
    {
      "cell_type": "code",
      "source": [],
      "metadata": {
        "id": "fzVxsZkkaSnQ"
      },
      "execution_count": null,
      "outputs": []
    },
    {
      "cell_type": "code",
      "execution_count": 5,
      "metadata": {
        "colab": {
          "base_uri": "https://localhost:8080/"
        },
        "id": "Xn-pNzlpZJ4i",
        "outputId": "243f4e42-0983-45d6-f5c3-9ece2267772c"
      },
      "outputs": [
        {
          "output_type": "stream",
          "name": "stdout",
          "text": [
            "[[1 2]\n",
            " [3 4]]\n"
          ]
        }
      ],
      "source": [
        "#Bài 1.1\n",
        "import numpy as np\n",
        "D = np.array([[1,2],[3,4]])\n",
        "np.copyto(E, D)\n",
        "E = np.array([[1,2],[3,5]])\n",
        "np.copyto(E, D)\n",
        "print(E)"
      ]
    },
    {
      "cell_type": "code",
      "source": [],
      "metadata": {
        "id": "C5o6_QfdbWsh"
      },
      "execution_count": null,
      "outputs": []
    },
    {
      "cell_type": "code",
      "source": [
        "#Bài 1.2\n",
        "import numpy as np\n",
        "\n",
        "x = np.array([['a','b'],['c','d']])\n",
        "y = 'x'\n",
        "C = np.matrix([[x,y],[1, 2]], dtype=object)\n",
        "print (C)\n",
        "A = np.array([[[1,2],[3,4]],[[5,6],[7,8]]])\n",
        "print(A)"
      ],
      "metadata": {
        "colab": {
          "base_uri": "https://localhost:8080/"
        },
        "id": "lIJAd9gWbAb0",
        "outputId": "8d02d3c3-4401-4301-a4e4-f336fe24977e"
      },
      "execution_count": 8,
      "outputs": [
        {
          "output_type": "stream",
          "name": "stdout",
          "text": [
            "[[array([['a', 'b'],\n",
            "         ['c', 'd']], dtype='<U1') 'x']\n",
            " [1 2]]\n",
            "[[[1 2]\n",
            "  [3 4]]\n",
            "\n",
            " [[5 6]\n",
            "  [7 8]]]\n"
          ]
        }
      ]
    },
    {
      "cell_type": "code",
      "source": [
        "#Bài 1.3\n",
        "from numpy import matlib\n",
        "G = matlib.identity(5)\n",
        "print (G)\n",
        "H = matlib.randn(3,2)\n",
        "print(H)\n",
        "K = matlib.zeros([4,4]) #  cú pháp: matlib.zeros(shape)\n",
        "print(K)"
      ],
      "metadata": {
        "colab": {
          "base_uri": "https://localhost:8080/"
        },
        "id": "7rBcTxUSbovm",
        "outputId": "c70897f4-bd8e-406f-b27e-b7897fee5b40"
      },
      "execution_count": 10,
      "outputs": [
        {
          "output_type": "stream",
          "name": "stdout",
          "text": [
            "[[1. 0. 0. 0. 0.]\n",
            " [0. 1. 0. 0. 0.]\n",
            " [0. 0. 1. 0. 0.]\n",
            " [0. 0. 0. 1. 0.]\n",
            " [0. 0. 0. 0. 1.]]\n",
            "[[-1.91056253 -0.53263431]\n",
            " [-0.58947655  0.76901111]\n",
            " [ 0.32329801 -1.23453143]]\n",
            "[[0. 0. 0. 0.]\n",
            " [0. 0. 0. 0.]\n",
            " [0. 0. 0. 0.]\n",
            " [0. 0. 0. 0.]]\n"
          ]
        }
      ]
    },
    {
      "cell_type": "code",
      "source": [],
      "metadata": {
        "id": "Q6L9w5wHc8bo"
      },
      "execution_count": null,
      "outputs": []
    },
    {
      "cell_type": "code",
      "source": [
        "#Bài 2.2\n",
        "import numpy as np\n",
        "c = [3, 7, 15, 1, 292, 1, 1, 1, 2, 1, 3, 1, 14, 2]\n",
        "M = np.asmatrix([[1,2],[3,4]])\n",
        "for i in range(len(c)):\n",
        "  ci = np.asmatrix([[1,1],[1,0]])\n",
        "  ci[0, 0] = c[i]\n",
        "  if (i==0):\n",
        "    M = ci\n",
        "  else:\n",
        "    M = M.dot(ci)\n",
        "print(M)\n",
        "print (M[0,0]/M[1,0])"
      ],
      "metadata": {
        "id": "iQW9zcaLcWty",
        "colab": {
          "base_uri": "https://localhost:8080/"
        },
        "outputId": "3e4ceb56-66ab-412e-e11f-e2a797e5edc4"
      },
      "execution_count": 14,
      "outputs": [
        {
          "output_type": "stream",
          "name": "stdout",
          "text": [
            "[[165707065  80143857]\n",
            " [ 52746197  25510582]]\n",
            "3.1415926535897936\n"
          ]
        }
      ]
    },
    {
      "cell_type": "code",
      "source": [],
      "metadata": {
        "id": "5v_BWe7WeRTx"
      },
      "execution_count": null,
      "outputs": []
    },
    {
      "cell_type": "code",
      "source": [
        "#3.2\n",
        "import numpy as np\n",
        "X = np.array([[1, 1],[1, 2],[1, 3],[1, 4],[1, 5]])\n",
        "Y = np.array([[2],[3],[4],[4],[6]])\n",
        "XT = X.transpose()\n",
        "A1 = XT.dot(X)\n",
        "A2 = XT.dot(Y)\n",
        "A = A1.dot(A2)\n",
        "print(A)"
      ],
      "metadata": {
        "colab": {
          "base_uri": "https://localhost:8080/"
        },
        "id": "Cyz-M28-dlIX",
        "outputId": "b43a36e3-d113-467c-bb9c-3a4a998344d8"
      },
      "execution_count": 18,
      "outputs": [
        {
          "output_type": "stream",
          "name": "stdout",
          "text": [
            "[[1085]\n",
            " [3915]]\n"
          ]
        }
      ]
    },
    {
      "cell_type": "code",
      "source": [
        "#Bài tập chương 5\n",
        "import numpy as np\n",
        "def bpcuctieu(a):\n",
        "  b = []\n",
        "  o1 = []\n",
        "  for i in range(len(a)):\n",
        "    o1.append(1.0)\n",
        "    b.append((i+1)*1.0)\n",
        "  x = np.array([o1, b])\n",
        "  u = np.dot(x, x.T)\n",
        "  y = np.array(a)\n",
        "  from numpy import linalg\n",
        "  u_1 =np.linalg.inv(u)\n",
        "  v = np.dot(u_1, x)\n",
        "  A = np.dot(v, y)\n",
        "  return A\n",
        "dulieu = [10.0, 8,7,5,2]\n",
        "bpcuctieu(dulieu)"
      ],
      "metadata": {
        "colab": {
          "base_uri": "https://localhost:8080/"
        },
        "id": "zCt7JST9fKnH",
        "outputId": "7ea81adf-2372-49b6-e1d1-7f161df66a1e"
      },
      "execution_count": 42,
      "outputs": [
        {
          "output_type": "execute_result",
          "data": {
            "text/plain": [
              "array([12.1, -1.9])"
            ]
          },
          "metadata": {},
          "execution_count": 42
        }
      ]
    }
  ]
}