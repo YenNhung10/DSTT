{
  "nbformat": 4,
  "nbformat_minor": 0,
  "metadata": {
    "colab": {
      "provenance": []
    },
    "kernelspec": {
      "name": "python3",
      "display_name": "Python 3"
    },
    "language_info": {
      "name": "python"
    }
  },
  "cells": [
    {
      "cell_type": "code",
      "execution_count": 15,
      "metadata": {
        "colab": {
          "base_uri": "https://localhost:8080/"
        },
        "id": "TfIGIlkkiugL",
        "outputId": "3c06d11c-98e5-4d3d-b662-9a7a12ed459d"
      },
      "outputs": [
        {
          "output_type": "stream",
          "name": "stdout",
          "text": [
            "[3 3 1 5]\n",
            "[  4 -11  13 -10]\n",
            "[[ 5  0 -1]\n",
            " [ 0 14 10]\n",
            " [-1 10 17]]\n"
          ]
        }
      ],
      "source": [
        "#Bài 1\n",
        "import numpy as np\n",
        "from numpy.linalg import norm\n",
        "A = np.array([2, -1, 3, 0])\n",
        "B = np.array([1, 4, -2, 5])\n",
        "C = np.array([[1, 2, -1],\n",
        "              [0, 3, 4],\n",
        "              [2, -1, 0]])\n",
        "#a)\n",
        "tong = A + B\n",
        "tich_so = 3*A - 2*B\n",
        "print(tong)\n",
        "print(tich_so)\n",
        "#b)\n",
        "dot_product = np.dot(A, B)\n",
        "cos_theta = dot_product / (norm(A) * norm(B))\n",
        "goc =(cos_theta)\n",
        "#c)\n",
        "CtC = C.T @ C\n",
        "print(CtC)"
      ]
    },
    {
      "cell_type": "code",
      "source": [
        "#Bài 2\n",
        "import numpy as np\n",
        "\n",
        "# Khai báo ma trận M và N\n",
        "M = np.array([[1, 2, 3, 0],\n",
        "              [4, 5, 6, 1],\n",
        "              [7, 8, 9, 2],\n",
        "              [0, 1, 1, 0]])\n",
        "\n",
        "N = np.array([[ 0,  1,  2,  3],\n",
        "              [ 4,  5,  6,  7],\n",
        "              [ 8,  9, 10, 11],\n",
        "              [12, 13, 14, 15]])\n",
        "\n",
        "# a) Tính tích M × N\n",
        "tich = M @ N\n",
        "print(tich)\n",
        "#b) Tính định thức của ma trận M\n",
        "try:\n",
        "    det_M = np.linalg.det(M)\n",
        "    print(round(det_M, 3))\n",
        "except np.linalg.LinAlgError as e:\n",
        "    print(e)\n",
        "\n",
        "# c) Tính hạng của ma trận N\n",
        "rank_N = np.linalg.matrix_rank(N)\n",
        "print(rank_N)"
      ],
      "metadata": {
        "colab": {
          "base_uri": "https://localhost:8080/"
        },
        "id": "WyVeBOBUmCCj",
        "outputId": "e8811e3e-58fa-40e2-f132-9edc8a274918"
      },
      "execution_count": 7,
      "outputs": [
        {
          "output_type": "stream",
          "name": "stdout",
          "text": [
            "[[ 32  38  44  50]\n",
            " [ 80  96 112 128]\n",
            " [128 154 180 206]\n",
            " [ 12  14  16  18]]\n",
            "0.0\n",
            "2\n"
          ]
        }
      ]
    },
    {
      "cell_type": "code",
      "source": [
        "#Bài 3\n",
        "import numpy as np\n",
        "\n",
        "# Khai báo ma trận P và vector hệ số tự do\n",
        "P = np.array([[2, 1, 0, 1],\n",
        "              [0, 3, 1, -1],\n",
        "              [1, 0, 4, 2],\n",
        "              [0, 1, 0, 3]])\n",
        "\n",
        "b = np.array([4, 7, 9, 5])\n",
        "\n",
        "# a) Tìm ma trận nghịch đảo của P\n",
        "try:\n",
        "    P_nghichdao = np.linalg.inv(P)\n",
        "    print(P_nghichdao)\n",
        "except np.linalg.LinAlgError:\n",
        "    print(\"a) Ma trận P không khả nghịch.\")\n",
        "\n",
        "# b) Giải hệ phương trình P * x = b\n",
        "if 'P_nghichdao' in locals():\n",
        "    x = P_nghichdao @ b\n",
        "    print(x)\n",
        "\n",
        "# c) Kiểm tra lại nghiệm\n",
        "if 'x' in locals():\n",
        "    check = P @ x\n",
        "    print(check)\n",
        "    print(b)\n",
        "    print(np.allclose(check, b))\n"
      ],
      "metadata": {
        "colab": {
          "base_uri": "https://localhost:8080/"
        },
        "id": "JzRPvTkUmh15",
        "outputId": "4ef3d815-3f88-4382-d6cd-e55eb546fcd3"
      },
      "execution_count": 9,
      "outputs": [
        {
          "output_type": "stream",
          "name": "stdout",
          "text": [
            "a) Ma trận nghịch đảo của P là:\n",
            " [[ 0.48837209 -0.09302326  0.02325581 -0.20930233]\n",
            " [ 0.03488372  0.27906977 -0.06976744  0.12790698]\n",
            " [-0.11627907  0.06976744  0.23255814 -0.09302326]\n",
            " [-0.01162791 -0.09302326  0.02325581  0.29069767]]\n",
            "[0.46511628 2.10465116 1.65116279 0.96511628]\n",
            "[4. 7. 9. 5.]\n",
            "[4 7 9 5]\n",
            "True\n"
          ]
        }
      ]
    },
    {
      "cell_type": "code",
      "source": [
        "#Bài 4\n",
        "# Khai báo ma trận Q\n",
        "Q = np.array([[4, -1, 0],\n",
        "              [1, 3, -2],\n",
        "              [0, 1, 2]])\n",
        "\n",
        "# a) Tìm giá trị riêng\n",
        "eigenvalues, eigenvectors = np.linalg.eig(Q)\n",
        "print(eigenvalues)\n",
        "\n",
        "# b) Vector riêng tương ứng\n",
        "print(eigenvectors)\n",
        "\n",
        "# c) Chuẩn hóa vector riêng (độ dài = 1)\n",
        "normed_vectors = eigenvectors / np.linalg.norm(eigenvectors)\n",
        "print(normed_vectors)"
      ],
      "metadata": {
        "colab": {
          "base_uri": "https://localhost:8080/"
        },
        "id": "DK_mye5hntMV",
        "outputId": "5cb3bf9f-b126-4720-ff08-c06fdc30c507"
      },
      "execution_count": 17,
      "outputs": [
        {
          "output_type": "stream",
          "name": "stdout",
          "text": [
            "[3.45339765+0.j         2.77330117+1.46771151j 2.77330117-1.46771151j]\n",
            "[[ 0.83327121+0.j         -0.26206044-0.31354813j -0.26206044+0.31354813j]\n",
            " [ 0.455468  +0.j         -0.78166743+0.j         -0.78166743-0.j        ]\n",
            " [ 0.31338154+0.j         -0.21963176+0.41685708j -0.21963176-0.41685708j]]\n",
            "[[ 0.48108936+0.j         -0.15130066-0.1810271j  -0.15130066+0.1810271j ]\n",
            " [ 0.26296457+0.j         -0.4512959 +0.j         -0.4512959 +0.j        ]\n",
            " [ 0.18093092+0.j         -0.12680446+0.24067254j -0.12680446-0.24067254j]]\n"
          ]
        }
      ]
    },
    {
      "cell_type": "code",
      "source": [
        "#Bài 5\n",
        "# Ma trận hệ số R và vector hằng số b\n",
        "R = np.array([[1, -2,  3],\n",
        "              [2,  0,  1],\n",
        "              [-1, 1,  4]])\n",
        "b = np.array([10, 8, 7])\n",
        "\n",
        "# a) Giải hệ phương trình Rx = b\n",
        "x = np.linalg.solve(R, b)\n",
        "print(x)\n",
        "\n",
        "# b) Kiểm tra khả nghịch và nhân ngược lại\n",
        "try:\n",
        "    R_inv = np.linalg.inv(R)\n",
        "    print(R_inv)\n",
        "    # Kiểm tra lại nghiệm\n",
        "    check = R @ x\n",
        "    print(check)\n",
        "    print(b)\n",
        "except np.linalg.LinAlgError:\n",
        "    print(\"b) R không khả nghịch.\")\n",
        "\n",
        "# c) Chuẩn Frobenius của R\n",
        "fro_norm = np.linalg.norm(R, ord='fro')\n",
        "print(round(fro_norm, 3))\n"
      ],
      "metadata": {
        "colab": {
          "base_uri": "https://localhost:8080/"
        },
        "id": "wAieGJATsful",
        "outputId": "6055793b-074d-4c70-93d9-8dceea66c110"
      },
      "execution_count": 13,
      "outputs": [
        {
          "output_type": "stream",
          "name": "stdout",
          "text": [
            "[2.7826087  0.04347826 2.43478261]\n",
            "[[-0.04347826  0.47826087 -0.08695652]\n",
            " [-0.39130435  0.30434783  0.2173913 ]\n",
            " [ 0.08695652  0.04347826  0.17391304]]\n",
            "[10.  8.  7.]\n",
            "[10  8  7]\n",
            "6.083\n"
          ]
        }
      ]
    }
  ]
}